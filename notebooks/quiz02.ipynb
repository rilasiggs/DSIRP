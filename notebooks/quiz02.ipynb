{
 "cells": [
  {
   "cell_type": "markdown",
   "metadata": {},
   "source": [
    "# Quiz 2\n",
    "\n",
    "BEFORE YOU START THIS QUIZ:\n",
    "\n",
    "1. Click on \"Copy to Drive\" to make a copy of the quiz,\n",
    "\n",
    "2. Click on \"Share\",\n",
    "    \n",
    "3. Click on \"Change\" and select \"Anyone with this link can edit\"\n",
    "    \n",
    "4. Click \"Copy link\" and\n",
    "\n",
    "5. Paste the link into [this Canvas assignment](https://canvas.olin.edu/courses/313/assignments/4929). \n",
    "\n",
    "This quiz is open notes, open internet. The only thing you can't do is ask for help.\n",
    "\n",
    "Copyright 2021 Allen Downey, [MIT License](http://opensource.org/licenses/MIT)"
   ]
  },
  {
   "cell_type": "markdown",
   "metadata": {},
   "source": [
    "## Question 1\n",
    "\n",
    "Suppose you have a function that takes a lot of options; some are required and some are optional.\n",
    "\n",
    "Before you run the function, you might want to check that:\n",
    "\n",
    "1. All required options are provided, and\n",
    "\n",
    "2. No illegal options are provided.\n",
    "\n",
    "For example, suppose this dictionary contains the provided options and their values:"
   ]
  },
  {
   "cell_type": "code",
   "execution_count": 1,
   "metadata": {},
   "outputs": [
    {
     "data": {
      "text/plain": [
       "{'a': 1, 'b': 2}"
      ]
     },
     "execution_count": 1,
     "metadata": {},
     "output_type": "execute_result"
    }
   ],
   "source": [
    "options = dict(a=1, b=2)\n",
    "options"
   ]
  },
  {
   "cell_type": "markdown",
   "metadata": {},
   "source": [
    "And suppose that only `a` is required."
   ]
  },
  {
   "cell_type": "code",
   "execution_count": 2,
   "metadata": {},
   "outputs": [],
   "source": [
    "required = ['a'] "
   ]
  },
  {
   "cell_type": "markdown",
   "metadata": {},
   "source": [
    "And the optional arguments are `b`, and `c`:"
   ]
  },
  {
   "cell_type": "code",
   "execution_count": 3,
   "metadata": {},
   "outputs": [],
   "source": [
    "optional = ['b', 'c'] "
   ]
  },
  {
   "cell_type": "markdown",
   "metadata": {},
   "source": [
    "An option is legal if it is required or optional. All other options are illegal.\n",
    "\n",
    "Write a function called `check_options` that takes a dictionary of options and their values, a sequence of required options, and a sequence of options that are legal but not required.\n",
    "\n",
    "1. It should check that all required options are provided and, if not, print an error message that lists the ones that are missing.\n",
    "\n",
    "2. It should check that all provided options are legal and, if not, print an error message that lists the ones that are illegal.\n",
    "\n",
    "For full credit, you must use set operations when they are appropriate rather than writing `for` loops."
   ]
  },
  {
   "cell_type": "code",
   "execution_count": 26,
   "metadata": {},
   "outputs": [],
   "source": [
    "def check_options(options, required, optional):\n",
    "    if set(options) >= {\"a\"}:\n",
    "        if {\"a\",\"b\",\"c\"} >= set(options):\n",
    "            return(\"Looks good!\")\n",
    "        else:\n",
    "            return(\"Error, you used an illegal operator\")\n",
    "    else:\n",
    "        return(\"Error, you forgot a required operator\")\n"
   ]
  },
  {
   "cell_type": "markdown",
   "metadata": {},
   "source": [
    "The following test should display nothing because the dictionary contains all required options and no illegal ones."
   ]
  },
  {
   "cell_type": "code",
   "execution_count": 23,
   "metadata": {},
   "outputs": [
    {
     "data": {
      "text/plain": [
       "'Looks good!'"
      ]
     },
     "execution_count": 23,
     "metadata": {},
     "output_type": "execute_result"
    }
   ],
   "source": [
    "options = dict(a=1, b=2)\n",
    "check_options(options, required, optional)"
   ]
  },
  {
   "cell_type": "markdown",
   "metadata": {},
   "source": [
    "The following test should print an error message because the dictionary is missing a required option."
   ]
  },
  {
   "cell_type": "code",
   "execution_count": 24,
   "metadata": {},
   "outputs": [
    {
     "data": {
      "text/plain": [
       "'Error, you forgot a required operator'"
      ]
     },
     "execution_count": 24,
     "metadata": {},
     "output_type": "execute_result"
    }
   ],
   "source": [
    "options = dict(b=2, c=3)\n",
    "check_options(options, required, optional)"
   ]
  },
  {
   "cell_type": "markdown",
   "metadata": {},
   "source": [
    "The following test should display an error message because the dictionary contains an illegal option."
   ]
  },
  {
   "cell_type": "code",
   "execution_count": 27,
   "metadata": {},
   "outputs": [
    {
     "data": {
      "text/plain": [
       "'Error, you used an illegal operator'"
      ]
     },
     "execution_count": 27,
     "metadata": {},
     "output_type": "execute_result"
    }
   ],
   "source": [
    "options = dict(a=1, b=2, d=4)\n",
    "check_options(options, required, optional)"
   ]
  },
  {
   "cell_type": "markdown",
   "metadata": {},
   "source": [
    "## Question 2\n",
    "\n",
    "The set method `symmetric_difference` operates on two sets and computes the set of elements that appear in either set but not both."
   ]
  },
  {
   "cell_type": "code",
   "execution_count": 33,
   "metadata": {},
   "outputs": [
    {
     "data": {
      "text/plain": [
       "{1, 3}"
      ]
     },
     "execution_count": 33,
     "metadata": {},
     "output_type": "execute_result"
    }
   ],
   "source": [
    "s1 = {1, 2}\n",
    "s2 = {2, 3}\n",
    "\n",
    "s1.symmetric_difference(s2)"
   ]
  },
  {
   "cell_type": "markdown",
   "metadata": {},
   "source": [
    "The symmetric difference operation is also defined for more that two sets. It computes **the set of elements that appear in an odd number of sets**.\n",
    "\n",
    "The `symmetric_difference` method can only handle two sets (unlike some of the other set methods), but you can chain the method like this:"
   ]
  },
  {
   "cell_type": "code",
   "execution_count": 31,
   "metadata": {},
   "outputs": [
    {
     "data": {
      "text/plain": [
       "{1, 4}"
      ]
     },
     "execution_count": 31,
     "metadata": {},
     "output_type": "execute_result"
    }
   ],
   "source": [
    "s3 = {3, 4}\n",
    "s1.symmetric_difference(s2).symmetric_difference(s3)"
   ]
  },
  {
   "cell_type": "markdown",
   "metadata": {},
   "source": [
    "However, for the sake of the exercise, let's suppose we don't have the set method `symmetric_difference` the equivalent `^` operator.\n",
    "\n",
    "Write a function that takes a list of sets as a parameter, computes their symmetric difference, and returns the result as a `set`."
   ]
  },
  {
   "cell_type": "code",
   "execution_count": 56,
   "metadata": {},
   "outputs": [],
   "source": [
    "def symmetric_difference(list):\n",
    "    all_items = set()\n",
    "    repeated_items = set()\n",
    "\n",
    "    for set_ in list:\n",
    "        repeated_items.update(set_ & all_items)\n",
    "        all_items.update(set_)\n",
    "    return(all_items - repeated_items)"
   ]
  },
  {
   "cell_type": "markdown",
   "metadata": {},
   "source": [
    "Use the following tests to check your function."
   ]
  },
  {
   "cell_type": "code",
   "execution_count": 57,
   "metadata": {},
   "outputs": [
    {
     "data": {
      "text/plain": [
       "{1, 3}"
      ]
     },
     "execution_count": 57,
     "metadata": {},
     "output_type": "execute_result"
    }
   ],
   "source": [
    "symmetric_difference([s1, s2])    # should be {1, 3}"
   ]
  },
  {
   "cell_type": "code",
   "execution_count": 58,
   "metadata": {},
   "outputs": [
    {
     "data": {
      "text/plain": [
       "{2, 4}"
      ]
     },
     "execution_count": 58,
     "metadata": {},
     "output_type": "execute_result"
    }
   ],
   "source": [
    "symmetric_difference([s2, s3])     # should be {2, 4}"
   ]
  },
  {
   "cell_type": "code",
   "execution_count": 59,
   "metadata": {},
   "outputs": [
    {
     "data": {
      "text/plain": [
       "{1, 4}"
      ]
     },
     "execution_count": 59,
     "metadata": {},
     "output_type": "execute_result"
    }
   ],
   "source": [
    "symmetric_difference([s1, s2, s3]) # should be {1, 4}"
   ]
  },
  {
   "cell_type": "markdown",
   "metadata": {},
   "source": [
    "## Question 3\n",
    "\n",
    "Write a generator function called `evens_and_odds` that takes a list of integers and yields:\n",
    "\n",
    "* All of the elements of the list that are even, followed by\n",
    "\n",
    "* All of the elements of the list that are odd.\n",
    "\n",
    "For example, if the list is `[1, 2, 4, 7]`, the sequence of values generated should be `2, 4, 1, 7`."
   ]
  },
  {
   "cell_type": "code",
   "execution_count": 66,
   "metadata": {},
   "outputs": [],
   "source": [
    "def evens_and_odds(list):\n",
    "    for int_ in list:\n",
    "        if int_ % 2 == 0:\n",
    "            yield int_\n",
    "        else:\n",
    "            continue\n",
    "\n",
    "    for int_ in list:\n",
    "        if int_ % 2 == 1:\n",
    "            yield int_"
   ]
  },
  {
   "cell_type": "markdown",
   "metadata": {},
   "source": [
    "Use this example to test your function."
   ]
  },
  {
   "cell_type": "code",
   "execution_count": 67,
   "metadata": {},
   "outputs": [
    {
     "name": "stdout",
     "output_type": "stream",
     "text": [
      "2\n",
      "4\n",
      "1\n",
      "7\n"
     ]
    }
   ],
   "source": [
    "t = [1, 2, 4, 7]\n",
    "\n",
    "for x in evens_and_odds(t):\n",
    "    print(x)"
   ]
  },
  {
   "cell_type": "markdown",
   "metadata": {},
   "source": [
    "As a challenge, JUST FOR FUN, write a version of this function that works if the argument is an iterator that you can only iterate once."
   ]
  },
  {
   "cell_type": "code",
   "execution_count": null,
   "metadata": {},
   "outputs": [],
   "source": []
  },
  {
   "cell_type": "code",
   "execution_count": null,
   "metadata": {},
   "outputs": [],
   "source": []
  },
  {
   "cell_type": "markdown",
   "metadata": {},
   "source": [
    "## Question 4\n",
    "\n",
    "The following string contains the lyrics of a [well-known song](https://youtu.be/dQw4w9WgXcQ?t=43)."
   ]
  },
  {
   "cell_type": "code",
   "execution_count": 69,
   "metadata": {},
   "outputs": [],
   "source": [
    "lyrics = \"\"\"\n",
    "Never gonna give you up\n",
    "Never gonna let you down\n",
    "Never gonna run around and desert you\n",
    "Never gonna make you cry\n",
    "Never gonna say goodbye\n",
    "Never gonna tell a lie and hurt you \n",
    "\"\"\""
   ]
  },
  {
   "cell_type": "markdown",
   "metadata": {},
   "source": [
    "The following generator function yields the words in `lyrics` one at a time."
   ]
  },
  {
   "cell_type": "code",
   "execution_count": 68,
   "metadata": {},
   "outputs": [],
   "source": [
    "def generate_lyrics(lyrics):\n",
    "    for word in lyrics.split():\n",
    "        yield word"
   ]
  },
  {
   "cell_type": "markdown",
   "metadata": {},
   "source": [
    "Write a few lines of code that use `generate_lyrics` to iterate through the words **only once** and build a dictionary that maps from each word to the set of words that follow it.\n",
    "\n",
    "For example, the first two entries in the dictionary should be\n",
    "\n",
    "```\n",
    "{'Never': {'gonna'},\n",
    " 'gonna': {'give', 'let', 'make', 'run', 'say', 'tell'},\n",
    " ...\n",
    "```\n",
    "\n",
    "because in `lyrics`, the word \"Never\" is always followed by \"gonna\", and the word \"gonna\" is followed by six different words."
   ]
  },
  {
   "cell_type": "code",
   "execution_count": 71,
   "metadata": {},
   "outputs": [
    {
     "name": "stdout",
     "output_type": "stream",
     "text": [
      "['Never', 'gonna', 'give', 'you', 'up', 'Never', 'gonna', 'let', 'you', 'down', 'Never', 'gonna', 'run', 'around', 'and', 'desert', 'you', 'Never', 'gonna', 'make', 'you', 'cry', 'Never', 'gonna', 'say', 'goodbye', 'Never', 'gonna', 'tell', 'a', 'lie', 'and', 'hurt', 'you']\n"
     ]
    }
   ],
   "source": [
    "d = {}\n",
    "for word in lyrics.split():\n",
    "    d[word] = set(nextword)"
   ]
  },
  {
   "cell_type": "code",
   "execution_count": null,
   "metadata": {},
   "outputs": [],
   "source": []
  },
  {
   "cell_type": "code",
   "execution_count": null,
   "metadata": {},
   "outputs": [],
   "source": []
  },
  {
   "cell_type": "code",
   "execution_count": null,
   "metadata": {},
   "outputs": [],
   "source": []
  }
 ],
 "metadata": {
  "kernelspec": {
   "display_name": "Python 3.9.6 64-bit",
   "language": "python",
   "name": "python3"
  },
  "language_info": {
   "codemirror_mode": {
    "name": "ipython",
    "version": 3
   },
   "file_extension": ".py",
   "mimetype": "text/x-python",
   "name": "python",
   "nbconvert_exporter": "python",
   "pygments_lexer": "ipython3",
   "version": "3.9.6"
  },
  "vscode": {
   "interpreter": {
    "hash": "31f2aee4e71d21fbe5cf8b01ff0e069b9275f58929596ceb00d14d90e3e16cd6"
   }
  }
 },
 "nbformat": 4,
 "nbformat_minor": 1
}
